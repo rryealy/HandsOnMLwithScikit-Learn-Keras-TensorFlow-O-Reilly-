{
  "cells": [
    {
      "cell_type": "markdown",
      "metadata": {},
      "source": [
        "# Deep Computer Vision with CNNs\n",
        "## Chapter 14 - Convolutional Neural Networks Implementation Guide"
      ]
    },
    {
      "cell_type": "markdown",
      "metadata": {},
      "source": [
        "## 1. Introduction to CNNs\n",
        "\n",
        "Convolutional Neural Networks (CNNs) are specialized for processing grid-like data (images, videos). Key advantages:\n",
        "- **Local connectivity**: Neurons connect only to local regions (receptive fields)\n",
        "- **Parameter sharing**: Same weights used across spatial locations\n",
        "- **Hierarchical features**: Learn from simple to complex patterns\n",
        "\n",
        "### Biological Inspiration:\n",
        "Based on visual cortex organization discovered by Hubel & Wiesel (1959-1968)"
      ]
    },
    {
      "cell_type": "markdown",
      "metadata": {},
      "source": [
        "## 2. Core CNN Components\n",
        "\n",
        "### 2.1 Convolutional Layers\n",
        "- Apply filters/kernels that detect patterns\n",
        "- Output feature maps highlight where patterns occur\n",
        "- Key parameters:\n",
        "  - `filters`: Number of output channels\n",
        "  - `kernel_size`: Spatial dimensions of filters (e.g., 3×3)\n",
        "  - `strides`: Step size for sliding window\n",
        "  - `padding`: 'valid' (no padding) or 'same' (keep dimensions)\n",
        "\n",
        "### 2.2 Pooling Layers\n",
        "- Reduce spatial dimensions (downsampling)\n",
        "- Types:\n",
        "  - Max pooling: Takes maximum value in window\n",
        "  - Average pooling: Takes average value in window"
      ]
    },
    {
      "cell_type": "code",
      "execution_count": null,
      "metadata": {},
      "outputs": [],
      "source": [
        "import tensorflow as tf\n",
        "from tensorflow.keras import layers\n",
        "\n",
        "# Basic CNN architecture example\n",
        "model = tf.keras.Sequential([\n",
        "    # Convolutional block 1\n",
        "    layers.Conv2D(32, (3, 3), activation='relu', input_shape=(28, 28, 1)),\n",
        "    layers.MaxPooling2D((2, 2)),\n",
        "    \n",
        "    # Convolutional block 2\n",
        "    layers.Conv2D(64, (3, 3), activation='relu'),\n",
        "    layers.MaxPooling2D((2, 2)),\n",
        "    \n",
        "    # Classifier head\n",
        "    layers.Flatten(),\n",
        "    layers.Dense(64, activation='relu'),\n",
        "    layers.Dense(10, activation='softmax')\n",
        "])\n",
        "\n",
        "model.summary()"
      ]
    },
    {
      "cell_type": "markdown",
      "metadata": {},
      "source": [
        "## 3. CNN Architectures\n",
        "\n",
        "### 3.1 LeNet-5 (1998)\n",
        "- First successful CNN architecture for digit recognition\n",
        "- Key features:\n",
        "  - Alternating convolutions and pooling\n",
        "  - Tanh activation functions\n",
        "  - Fully connected final layers\n",
        "\n",
        "### 3.2 AlexNet (2012)\n",
        "- Breakthrough ImageNet performance\n",
        "- Innovations:\n",
        "  - ReLU activation\n",
        "  - Dropout regularization\n",
        "  - Data augmentation\n",
        "  - GPU acceleration\n",
        "\n",
        "### 3.3 ResNet (2015)\n",
        "- Introduced residual connections\n",
        "- Enabled training of very deep networks (100+ layers)\n",
        "- Key concept: Skip connections help gradient flow"
      ]
    },
    {
      "cell_type": "code",
      "execution_count": null,
      "metadata": {},
      "outputs": [],
      "source": [
        "# ResNet-style residual block implementation\n",
        "class ResidualBlock(tf.keras.layers.Layer):\n",
        "    def __init__(self, filters, strides=1, activation=\"relu\", **kwargs):\n",
        "        super().__init__(**kwargs)\n",
        "        self.activation = tf.keras.activations.get(activation)\n",
        "        self.main_layers = [\n",
        "            tf.keras.layers.Conv2D(filters, 3, strides=strides, padding=\"same\", use_bias=False),\n",
        "            tf.keras.layers.BatchNormalization(),\n",
        "            self.activation,\n",
        "            tf.keras.layers.Conv2D(filters, 3, strides=1, padding=\"same\", use_bias=False),\n",
        "            tf.keras.layers.BatchNormalization()\n",
        "        ]\n",
        "        self.skip_layers = []\n",
        "        if strides > 1:\n",
        "            self.skip_layers = [\n",
        "                tf.keras.layers.Conv2D(filters, 1, strides=strides, padding=\"same\", use_bias=False),\n",
        "                tf.keras.layers.BatchNormalization()\n",
        "            ]\n",
        "    \n",
        "    def call(self, inputs):\n",
        "        Z = inputs\n",
        "        for layer in self.main_layers:\n",
        "            Z = layer(Z)\n",
        "        skip_Z = inputs\n",
        "        for layer in self.skip_layers:\n",
        "            skip_Z = layer(skip_Z)\n",
        "        return self.activation(Z + skip_Z)\n",
        "\n",
        "# Example usage\n",
        "inputs = tf.keras.Input(shape=(32, 32, 3))\n",
        "x = ResidualBlock(64)(inputs)\n",
        "x = ResidualBlock(128, strides=2)(x)\n",
        "outputs = tf.keras.layers.GlobalAvgPool2D()(x)\n",
        "model = tf.keras.Model(inputs=inputs, outputs=outputs)\n",
        "model.summary()"
      ]
    },
    {
      "cell_type": "markdown",
      "metadata": {},
      "source": [
        "## 4. Transfer Learning with Pretrained Models\n",
        "\n",
        "### 4.1 Using Keras Applications\n",
        "Leverage models pretrained on ImageNet:"
      ]
    },
    {
      "cell_type": "code",
      "execution_count": null,
      "metadata": {},
      "outputs": [],
      "source": [
        "from tensorflow.keras.applications import ResNet50\n",
        "from tensorflow.keras.preprocessing import image\n",
        "from tensorflow.keras.applications.resnet50 import preprocess_input, decode_predictions\n",
        "import numpy as np\n",
        "\n",
        "# Load pretrained model\n",
        "model = ResNet50(weights=\"imagenet\")\n",
        "\n",
        "# Prepare image\n",
        "img_path = \"example.jpg\"  # Replace with your image\n",
        "img = image.load_img(img_path, target_size=(224, 224))\n",
        "x = image.img_to_array(img)\n",
        "x = np.expand_dims(x, axis=0)\n",
        "x = preprocess_input(x)\n",
        "\n",
        "# Make prediction\n",
        "preds = model.predict(x)\n",
        "print(\"Top predictions:\", decode_predictions(preds, top=3)[0])"
      ]
    },
    {
      "cell_type": "markdown",
      "metadata": {},
      "source": [
        "### 4.2 Fine-tuning for Custom Tasks\n",
        "Adapt pretrained models to new datasets:"
      ]
    },
    {
      "cell_type": "code",
      "execution_count": null,
      "metadata": {},
      "outputs": [],
      "source": [
        "# Flower classification example\n",
        "import tensorflow_datasets as tfds\n",
        "\n",
        "# Load dataset\n",
        "dataset, info = tfds.load(\"tf_flowers\", as_supervised=True, with_info=True)\n",
        "n_classes = info.features[\"label\"].num_classes\n",
        "\n",
        "# Preprocess function\n",
        "def preprocess(image, label):\n",
        "    image = tf.image.resize(image, [224, 224])\n",
        "    image = preprocess_input(image)\n",
        "    return image, label\n",
        "\n",
        "# Prepare datasets\n",
        "batch_size = 32\n",
        "train_set = dataset[\"train\"].map(preprocess).batch(batch_size).prefetch(1)\n",
        "\n",
        "# Create model\n",
        "base_model = ResNet50(weights=\"imagenet\", include_top=False)\n",
        "avg = tf.keras.layers.GlobalAveragePooling2D()(base_model.output)\n",
        "output = tf.keras.layers.Dense(n_classes, activation=\"softmax\")(avg)\n",
        "model = tf.keras.Model(inputs=base_model.input, outputs=output)\n",
        "\n",
        "# Freeze base model\n",
        "for layer in base_model.layers:\n",
        "    layer.trainable = False\n",
        "\n",
        "# Compile and train\n",
        "model.compile(optimizer=\"adam\",\n",
        "              loss=\"sparse_categorical_crossentropy\",\n",
        "              metrics=[\"accuracy\"])\n",
        "model.fit(train_set, epochs=5)"
      ]
    },
    {
      "cell_type": "markdown",
      "metadata": {},
      "source": [
        "## 5. Advanced CNN Architectures\n",
        "\n",
        "### 5.1 Inception Modules\n",
        "- Use multiple filter sizes in parallel\n",
        "- Efficient \"network within network\" design\n",
        "- Reduces parameters while capturing multi-scale features\n",
        "\n",
        "### 5.2 Xception Architecture\n",
        "- Extreme version of Inception\n",
        "- Depthwise separable convolutions\n",
        "- More efficient computation\n",
        "\n",
        "### 5.3 Attention Mechanisms\n",
        "- Squeeze-and-Excitation Networks (SENet)\n",
        "- Channel-wise attention for feature recalibration"
      ]
    },
    {
      "cell_type": "markdown",
      "metadata": {},
      "source": [
        "## 6. Computer Vision Tasks\n",
        "\n",
        "### 6.1 Object Detection\n",
        "- **YOLO (You Only Look Once)**: Fast real-time detection\n",
        "- **Faster R-CNN**: High accuracy with region proposals\n",
        "\n",
        "### 6.2 Semantic Segmentation\n",
        "- Fully Convolutional Networks (FCNs)\n",
        "- U-Net architecture with skip connections\n",
        "- Transposed convolutions for upsampling"
      ]
    },
    {
      "cell_type": "markdown",
      "metadata": {},
      "source": [
        "## 7. Exercises\n",
        "\n",
        "1. Implement a CNN from scratch for CIFAR-10 classification\n",
        "2. Fine-tune a pretrained model on a custom dataset\n",
        "3. Visualize CNN feature maps to understand what layers learn\n",
        "4. Compare performance of different CNN architectures\n",
        "5. Implement data augmentation for improved generalization"
      ]
    },
    {
      "cell_type": "markdown",
      "metadata": {},
      "source": [
        "## 8. Key Takeaways\n",
        "\n",
        "- CNNs excel at processing grid-like data through local connectivity and parameter sharing\n",
        "- Modern architectures use techniques like residual connections and attention mechanisms\n",
        "- Transfer learning is powerful for custom tasks with limited data\n",
        "- Different architectures suit different tasks (classification, detection, segmentation)\n",
        "- Proper preprocessing and augmentation are crucial for performance"
      ]
    }
  ],
  "metadata": {
    "kernelspec": {
      "display_name": "Python 3",
      "language": "python",
      "name": "python3"
    },
    "language_info": {
      "codemirror_mode": {
        "name": "ipython",
        "version": 3
      },
      "file_extension": ".py",
      "mimetype": "text/x-python",
      "name": "python",
      "nbconvert_exporter": "python",
      "pygments_lexer": "ipython3",
      "version": "3.8.5"
    }
  },
  "nbformat": 4,
  "nbformat_minor": 4
}
