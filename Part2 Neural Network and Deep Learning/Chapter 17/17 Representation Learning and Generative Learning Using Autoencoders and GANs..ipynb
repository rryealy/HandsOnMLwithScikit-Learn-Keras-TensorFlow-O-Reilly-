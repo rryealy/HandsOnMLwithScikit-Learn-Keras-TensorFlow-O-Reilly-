{
  "cells": [
    {
      "cell_type": "markdown",
      "metadata": {},
      "source": [
        "# Representation Learning with Autoencoders & GANs\n",
        "## Chapter 17 - Generative Models Implementation Guide"
      ]
    },
    {
      "cell_type": "markdown",
      "metadata": {},
      "source": [
        "## 1. Introduction to Representation Learning\n",
        "\n",
        "**Key Concepts**:\n",
        "- Unsupervised learning of efficient data encodings\n",
        "- Dimensionality reduction with neural networks\n",
        "- Two main approaches:\n",
        "  - Autoencoders (deterministic)\n",
        "  - Generative Adversarial Networks (probabilistic)\n",
        "\n",
        "**Applications**:\n",
        "- Data compression\n",
        "- Anomaly detection\n",
        "- Image generation\n",
        "- Feature learning"
      ]
    },
    {
      "cell_type": "markdown",
      "metadata": {},
      "source": [
        "## 2. Autoencoders\n",
        "\n",
        "### 2.1 Basic Architecture\n",
        "\\[\n",
        "\\text{Input } x \\rightarrow \\text{Encoder } E(x) \\rightarrow \\text{Latent } z \\rightarrow \\text{Decoder } D(z) \\rightarrow \\text{Reconstruction } \\hat{x}\n",
        "\\]\n",
        "\n",
        "**Components**:\n",
        "- Encoder: $z = E(x)$\n",
        "- Decoder: $\\hat{x} = D(z)$\n",
        "- Loss: $\\mathcal{L}(x, \\hat{x}) = ||x - D(E(x))||^2$"
      ]
    },
    {
      "cell_type": "code",
      "execution_count": null,
      "metadata": {},
      "outputs": [],
      "source": [
        "from tensorflow.keras import layers, Model\n",
        "\n",
        "# Simple Autoencoder implementation\n",
        "input_dim = 784  # MNIST images\n",
        "latent_dim = 32\n",
        "\n",
        "# Encoder\n",
        "encoder_input = layers.Input(shape=(input_dim,))\n",
        "x = layers.Dense(256, activation='relu')(encoder_input)\n",
        "z = layers.Dense(latent_dim, activation='relu')(x)\n",
        "encoder = Model(encoder_input, z, name='encoder')\n",
        "\n",
        "# Decoder\n",
        "decoder_input = layers.Input(shape=(latent_dim,))\n",
        "x = layers.Dense(256, activation='relu')(decoder_input)\n",
        "output = layers.Dense(input_dim, activation='sigmoid')(x)\n",
        "decoder = Model(decoder_input, output, name='decoder')\n",
        "\n",
        "# Autoencoder\n",
        "autoencoder_input = layers.Input(shape=(input_dim,))\n",
        "encoded = encoder(autoencoder_input)\n",
        "decoded = decoder(encoded)\n",
        "autoencoder = Model(autoencoder_input, decoded, name='autoencoder')\n",
        "\n",
        "autoencoder.compile(optimizer='adam', loss='binary_crossentropy')\n",
        "autoencoder.summary()"
      ]
    },
    {
      "cell_type": "markdown",
      "metadata": {},
      "source": [
        "### 2.2 Variational Autoencoders (VAEs)\n",
        "\n",
        "**Key Differences**:\n",
        "- Encoder outputs parameters of probability distribution ($\\mu$, $\\sigma$)\n",
        "- Latent space sampling: $z = \\mu + \\sigma \\odot \\epsilon$\n",
        "- Loss function:\n",
        "\\[\n",
        "\\mathcal{L} = \\mathbb{E}[\\log p(x|z)] - D_{KL}(q(z|x) || p(z))\n",
        "\\]"
      ]
    },
    {
      "cell_type": "code",
      "execution_count": null,
      "metadata": {},
      "outputs": [],
      "source": [
        "class Sampling(layers.Layer):\n",
        "    def call(self, inputs):\n",
        "        z_mean, z_log_var = inputs\n",
        "        batch = tf.shape(z_mean)[0]\n",
        "        dim = tf.shape(z_mean)[1]\n",
        "        epsilon = tf.keras.backend.random_normal(shape=(batch, dim))\n",
        "        return z_mean + tf.exp(0.5 * z_log_var) * epsilon\n",
        "\n",
        "# VAE Encoder\n",
        "encoder_input = layers.Input(shape=(input_dim,))\n",
        "x = layers.Dense(256, activation='relu')(encoder_input)\n",
        "z_mean = layers.Dense(latent_dim)(x)\n",
        "z_log_var = layers.Dense(latent_dim)(x)\n",
        "z = Sampling()([z_mean, z_log_var])\n",
        "encoder = Model(encoder_input, [z_mean, z_log_var, z], name='encoder')\n",
        "\n",
        "# VAE Decoder (same as before)\n",
        "\n",
        "# VAE Model\n",
        "outputs = decoder(encoder(encoder_input)[2])\n",
        "vae = Model(encoder_input, outputs, name='vae')\n",
        "\n",
        "# Add KL divergence loss\n",
        "kl_loss = -0.5 * tf.reduce_mean(z_log_var - tf.square(z_mean) - tf.exp(z_log_var) + 1)\n",
        "vae.add_loss(kl_loss)\n",
        "vae.compile(optimizer='adam')\n",
        "vae.summary()"
      ]
    },
    {
      "cell_type": "markdown",
      "metadata": {},
      "source": [
        "## 3. Generative Adversarial Networks (GANs)\n",
        "\n",
        "### 3.1 GAN Architecture\n",
        "\\[\n",
        "\\min_G \\max_D V(D,G) = \\mathbb{E}_{x\\sim p_{data}}[\\log D(x)] + \\mathbb{E}_{z\\sim p_z}[\\log(1-D(G(z)))]\n",
        "\\]\n",
        "\n",
        "**Components**:\n",
        "- Generator: $G(z) \\rightarrow \\hat{x}$\n",
        "- Discriminator: $D(x) \\rightarrow [0,1]$\n",
        "- Adversarial training process"
      ]
    },
    {
      "cell_type": "code",
      "execution_count": null,
      "metadata": {},
      "outputs": [],
      "source": [
        "# GAN Implementation\n",
        "latent_dim = 100\n",
        "\n",
        "# Generator\n",
        "generator = tf.keras.Sequential([\n",
        "    layers.Dense(256, activation='relu', input_dim=latent_dim),\n",
        "    layers.BatchNormalization(),\n",
        "    layers.Dense(512, activation='relu'),\n",
        "    layers.BatchNormalization(),\n",
        "    layers.Dense(784, activation='tanh'),  # MNIST 28x28\n",
        "    layers.Reshape((28, 28, 1))\n",
        "], name='generator')\n",
        "\n",
        "# Discriminator\n",
        "discriminator = tf.keras.Sequential([\n",
        "    layers.Flatten(input_shape=(28, 28, 1)),\n",
        "    layers.Dense(512, activation='relu'),\n",
        "    layers.Dense(256, activation='relu'),\n",
        "    layers.Dense(1, activation='sigmoid')\n",
        "], name='discriminator')\n",
        "\n",
        "# Combined GAN\n",
        "gan = tf.keras.Sequential([generator, discriminator])\n",
        "\n",
        "# Compile models\n",
        "discriminator.compile(optimizer='adam', loss='binary_crossentropy', metrics=['accuracy'])\n",
        "discriminator.trainable = False\n",
        "gan.compile(optimizer='adam', loss='binary_crossentropy')\n",
        "\n",
        "generator.summary()"
      ]
    },
    {
      "cell_type": "markdown",
      "metadata": {},
      "source": [
        "### 3.2 GAN Training Loop\n",
        "\n",
        "Key steps:\n",
        "1. Train discriminator on real images (label 1)\n",
        "2. Train discriminator on fake images (label 0)\n",
        "3. Train generator to fool discriminator"
      ]
    },
    {
      "cell_type": "code",
      "execution_count": null,
      "metadata": {},
      "outputs": [],
      "source": [
        "# Simplified training loop\n",
        "def train_gan(generator, discriminator, gan, dataset, epochs=10, batch_size=128):\n",
        "    # Adversarial ground truths\n",
        "    valid = np.ones((batch_size, 1))\n",
        "    fake = np.zeros((batch_size, 1))\n",
        "    \n",
        "    for epoch in range(epochs):\n",
        "        for batch in dataset:\n",
        "            # Train Discriminator\n",
        "            noise = np.random.normal(0, 1, (batch_size, latent_dim))\n",
        "            gen_images = generator.predict(noise)\n",
        "            \n",
        "            # Train on real and fake images\n",
        "            d_loss_real = discriminator.train_on_batch(batch, valid)\n",
        "            d_loss_fake = discriminator.train_on_batch(gen_images, fake)\n",
        "            d_loss = 0.5 * np.add(d_loss_real, d_loss_fake)\n",
        "            \n",
        "            # Train Generator\n",
        "            noise = np.random.normal(0, 1, (batch_size, latent_dim))\n",
        "            g_loss = gan.train_on_batch(noise, valid)\n",
        "            \n",
        "        print(f\"Epoch {epoch+1}, D Loss: {d_loss[0]}, G Loss: {g_loss}\")\n",
        "\n",
        "# Note: In practice, you'd use proper batching and normalization"
      ]
    },
    {
      "cell_type": "markdown",
      "metadata": {},
      "source": [
        "## 4. Advanced Generative Models\n",
        "\n",
        "### 4.1 Conditional GANs\n",
        "- Generate samples conditioned on class labels\n",
        "- Useful for controlled generation\n",
        "\n",
        "### 4.2 StyleGAN\n",
        "- Progressive growing for high-res images\n",
        "- Style-based generator architecture\n",
        "- Fine-grained control over image features"
      ]
    },
    {
      "cell_type": "markdown",
      "metadata": {},
      "source": [
        "## 5. Applications\n",
        "\n",
        "### 5.1 Data Augmentation\n",
        "- Generate synthetic training samples\n",
        "- Balance imbalanced datasets\n",
        "\n",
        "### 5.2 Image-to-Image Translation\n",
        "- CycleGAN for unpaired translation\n",
        "- Pix2Pix for paired translation"
      ]
    },
    {
      "cell_type": "markdown",
      "metadata": {},
      "source": [
        "## 6. Exercises\n",
        "\n",
        "1. Train an autoencoder on MNIST and visualize reconstructions\n",
        "2. Implement a VAE and sample from the latent space\n",
        "3. Train a DCGAN to generate faces (use CelebA dataset)\n",
        "4. Experiment with different GAN architectures (WGAN, CGAN)\n",
        "5. Use t-SNE to visualize autoencoder latent spaces"
      ]
    },
    {
      "cell_type": "markdown",
      "metadata": {},
      "source": [
        "## 7. Key Takeaways\n",
        "\n",
        "- Autoencoders learn compressed representations through reconstruction\n",
        "- VAEs enable probabilistic sampling from latent space\n",
        "- GANs generate realistic samples through adversarial training\n",
        "- Modern architectures (StyleGAN, VQ-VAE) push quality boundaries\n",
        "- Generative models have wide applications from art to data augmentation"
      ]
    }
  ],
  "metadata": {
    "kernelspec": {
      "display_name": "Python 3",
      "language": "python",
      "name": "python3"
    },
    "language_info": {
      "codemirror_mode": {
        "name": "ipython",
        "version": 3
      },
      "file_extension": ".py",
      "mimetype": "text/x-python",
      "name": "python",
      "nbconvert_exporter": "python",
      "pygments_lexer": "ipython3",
      "version": "3.8.5"
    }
  },
  "nbformat": 4,
  "nbformat_minor": 4
}
