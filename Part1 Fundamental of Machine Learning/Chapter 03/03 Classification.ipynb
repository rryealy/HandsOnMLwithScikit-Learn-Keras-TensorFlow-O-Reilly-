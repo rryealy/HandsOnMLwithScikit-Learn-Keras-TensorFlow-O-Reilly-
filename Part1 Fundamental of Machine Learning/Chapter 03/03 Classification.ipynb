{
 "cells": [
  {
   "cell_type": "markdown",
   "id": "20f3bf35",
   "metadata": {},
   "source": [
    "# 📘 Chapter 3: Classification\n",
    "This notebook is a structured implementation and theoretical explanation based on Chapter 3 of *Hands-On Machine Learning with Scikit-Learn, Keras & TensorFlow*. It introduces classification tasks using the MNIST dataset."
   ]
  },
  {
   "cell_type": "markdown",
   "id": "9f8fbe14",
   "metadata": {},
   "source": [
    "## 📦 Import Libraries & Load Dataset"
   ]
  },
  {
   "cell_type": "code",
   "execution_count": null,
   "id": "6e6a28a3",
   "metadata": {},
   "outputs": [],
   "source": [
    "import numpy as np\n",
    "import matplotlib.pyplot as plt\n",
    "from sklearn.datasets import fetch_openml\n",
    "\n",
    "mnist = fetch_openml('mnist_784', version=1, as_frame=False)\n",
    "X, y = mnist[\"data\"], mnist[\"target\"]\n",
    "y = y.astype(np.uint8)  # convert target to integer\n",
    "X.shape, y.shape\n"
   ]
  },
  {
   "cell_type": "markdown",
   "id": "40738d7c",
   "metadata": {},
   "source": [
    "## 🔍 Visualize Sample Digits\n",
    "**Theory**: Visualizing data is a critical step in understanding the task and ensuring data integrity. Here we reshape one of the flat 784-length feature vectors into a 28x28 image."
   ]
  },
  {
   "cell_type": "code",
   "execution_count": null,
   "id": "1b950a3a",
   "metadata": {},
   "outputs": [],
   "source": [
    "some_digit = X[0]\n",
    "some_digit_image = some_digit.reshape(28, 28)\n",
    "\n",
    "plt.imshow(some_digit_image, cmap=\"binary\")\n",
    "plt.axis(\"off\")\n",
    "plt.title(f\"Label: {y[0]}\")\n",
    "plt.show()\n"
   ]
  },
  {
   "cell_type": "markdown",
   "id": "aa297ac2",
   "metadata": {},
   "source": [
    "## 🧮 Training a Binary Classifier\n",
    "**Theory**: We will train a classifier to detect only the digit 5 (vs. not 5). This is a binary classification problem."
   ]
  },
  {
   "cell_type": "code",
   "execution_count": null,
   "id": "9711908c",
   "metadata": {},
   "outputs": [],
   "source": [
    "from sklearn.linear_model import SGDClassifier\n",
    "\n",
    "X_train, X_test, y_train, y_test = X[:60000], X[60000:], y[:60000], y[60000:]\n",
    "y_train_5 = (y_train == 5)\n",
    "y_test_5 = (y_test == 5)\n",
    "\n",
    "sgd_clf = SGDClassifier(random_state=42)\n",
    "sgd_clf.fit(X_train, y_train_5)\n",
    "sgd_clf.predict([some_digit])\n"
   ]
  },
  {
   "cell_type": "markdown",
   "id": "f96c00ee",
   "metadata": {},
   "source": [
    "## 📈 Evaluating Accuracy with Cross-Validation\n",
    "**Theory**: Accuracy can be misleading in imbalanced datasets. We begin by measuring cross-validation accuracy."
   ]
  },
  {
   "cell_type": "code",
   "execution_count": null,
   "id": "81137362",
   "metadata": {},
   "outputs": [],
   "source": [
    "from sklearn.model_selection import cross_val_score\n",
    "\n",
    "cross_val_score(sgd_clf, X_train, y_train_5, cv=3, scoring=\"accuracy\")\n"
   ]
  },
  {
   "cell_type": "markdown",
   "id": "39662323",
   "metadata": {},
   "source": [
    "## 🤖 Dummy Classifier (Never 5)\n",
    "**Theory**: A naive baseline helps reveal the limitations of simple accuracy as a metric."
   ]
  },
  {
   "cell_type": "code",
   "execution_count": null,
   "id": "fa75febf",
   "metadata": {},
   "outputs": [],
   "source": [
    "from sklearn.base import BaseEstimator\n",
    "\n",
    "class Never5Classifier(BaseEstimator):\n",
    "    def fit(self, X, y=None): return self\n",
    "    def predict(self, X): return np.zeros((len(X),), dtype=bool)\n",
    "\n",
    "never_5_clf = Never5Classifier()\n",
    "cross_val_score(never_5_clf, X_train, y_train_5, cv=3, scoring=\"accuracy\")\n"
   ]
  },
  {
   "cell_type": "markdown",
   "id": "987700e5",
   "metadata": {},
   "source": [
    "## 🔢 Confusion Matrix and Precision/Recall\n",
    "**Theory**: A confusion matrix provides detailed insight into the types of prediction errors. Precision and recall offer better measures of performance for imbalanced data."
   ]
  },
  {
   "cell_type": "code",
   "execution_count": null,
   "id": "842b0fa2",
   "metadata": {},
   "outputs": [],
   "source": [
    "from sklearn.model_selection import cross_val_predict\n",
    "from sklearn.metrics import confusion_matrix, precision_score, recall_score, f1_score\n",
    "\n",
    "y_train_pred = cross_val_predict(sgd_clf, X_train, y_train_5, cv=3)\n",
    "confusion_matrix(y_train_5, y_train_pred)\n",
    "precision_score(y_train_5, y_train_pred), recall_score(y_train_5, y_train_pred), f1_score(y_train_5, y_train_pred)\n"
   ]
  }
 ],
 "metadata": {},
 "nbformat": 4,
 "nbformat_minor": 5
}