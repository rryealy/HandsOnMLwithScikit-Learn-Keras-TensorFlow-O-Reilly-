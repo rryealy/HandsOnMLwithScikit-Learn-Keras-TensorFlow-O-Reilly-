{
 "cells": [
  {
   "cell_type": "markdown",
   "id": "ab6b719e",
   "metadata": {},
   "source": [
    "# Chapter 1: The Machine Learning Landscape"
   ]
  },
  {
   "cell_type": "markdown",
   "id": "99d17ccd",
   "metadata": {},
   "source": [
    "Bab ini menjelaskan dasar-dasar Machine Learning (ML), jenis-jenis sistem ML, tantangan umum, dan alur kerja proyek ML.\n"
   ]
  },
  {
   "cell_type": "markdown",
   "id": "71f8a17b",
   "metadata": {},
   "source": [
    "## Apa itu Machine Learning?"
   ]
  },
  {
   "cell_type": "markdown",
   "id": "c78f48ae",
   "metadata": {},
   "source": [
    "**Definisi:**\n",
    "- ML adalah seni dan ilmu membuat komputer belajar dari data tanpa diprogram secara eksplisit.\n",
    "- **Contoh**: Spam filter belajar dari data email spam/ham untuk mengklasifikasikan email baru.\n",
    "\n",
    "**Pendekatan:**\n",
    "- **Task (T)**, **Experience (E)**, **Performance (P)**.\n",
    "- Contoh: T = klasifikasi spam, E = data email, P = akurasi.\n"
   ]
  },
  {
   "cell_type": "markdown",
   "id": "1d5d534e",
   "metadata": {},
   "source": [
    "## Mengapa Menggunakan ML?"
   ]
  },
  {
   "cell_type": "markdown",
   "id": "895804e2",
   "metadata": {},
   "source": [
    "ML unggul dalam:\n",
    "- Masalah kompleks dengan banyak aturan (misal: spam filter).\n",
    "- Masalah tanpa algoritma eksplisit (misal: pengenalan suara).\n",
    "- Lingkungan yang berubah-ubah.\n",
    "- Menemukan pola dalam data besar (data mining).\n"
   ]
  },
  {
   "cell_type": "markdown",
   "id": "d5d390ac",
   "metadata": {},
   "source": [
    "## Aplikasi Machine Learning"
   ]
  },
  {
   "cell_type": "markdown",
   "id": "70edc72b",
   "metadata": {},
   "source": [
    "Beberapa contoh:\n",
    "- Klasifikasi gambar → CNN\n",
    "- Deteksi tumor → Semantic Segmentation\n",
    "- NLP (klasifikasi teks, summarization) → RNN, Transformer\n",
    "- Regresi pendapatan → Linear/Polynomial Regression\n",
    "- Pengenalan suara → RNN, Transformer\n",
    "- Anomali (fraud) → Isolation Forest, One-class SVM\n",
    "- Rekomendasi produk → Neural Network\n",
    "- Game AI → Reinforcement Learning\n"
   ]
  },
  {
   "cell_type": "markdown",
   "id": "ffed68bf",
   "metadata": {},
   "source": [
    "## Jenis Sistem ML"
   ]
  },
  {
   "cell_type": "markdown",
   "id": "bf0d53d7",
   "metadata": {},
   "source": [
    "1. **Supervised**: Data dilabeli. Contoh: klasifikasi, regresi.\n",
    "2. **Unsupervised**: Data tidak dilabeli. Contoh: clustering, deteksi anomali.\n",
    "3. **Semisupervised**: Campuran data label dan tidak.\n",
    "4. **Reinforcement Learning**: Agen belajar melalui reward/penalty.\n",
    "\n",
    "**Lainnya:**\n",
    "- **Batch vs Online**: Batch dilatih sekaligus, Online belajar terus-menerus.\n",
    "- **Instance-based vs Model-based**: Hafalan vs membangun model prediktif.\n"
   ]
  },
  {
   "cell_type": "markdown",
   "id": "86f05502",
   "metadata": {},
   "source": [
    "## Contoh Kode: Linear Regression dengan Scikit-Learn"
   ]
  },
  {
   "cell_type": "code",
   "execution_count": null,
   "id": "8712c678",
   "metadata": {},
   "outputs": [],
   "source": [
    "import numpy as np\n",
    "import pandas as pd\n",
    "import matplotlib.pyplot as plt\n",
    "from sklearn.linear_model import LinearRegression\n",
    "\n",
    "# Dummy data\n",
    "X = np.array([[12240], [27195], [37675], [50962], [55805]])\n",
    "y = np.array([[4.9], [5.8], [6.5], [7.3], [7.2]])\n",
    "\n",
    "# Model\n",
    "model = LinearRegression()\n",
    "model.fit(X, y)\n",
    "\n",
    "# Prediksi\n",
    "X_new = [[22587]]\n",
    "print(\"Prediksi Life Satisfaction:\", model.predict(X_new))"
   ]
  },
  {
   "cell_type": "markdown",
   "id": "6198901b",
   "metadata": {},
   "source": [
    "## Tantangan Umum"
   ]
  },
  {
   "cell_type": "markdown",
   "id": "b8037f50",
   "metadata": {},
   "source": [
    "1. Data:\n",
    "   - Terlalu sedikit\n",
    "   - Tidak representatif\n",
    "   - Berkualitas buruk\n",
    "   - Fitur tidak relevan\n",
    "\n",
    "2. Model:\n",
    "   - **Overfitting**: terlalu kompleks\n",
    "   - **Underfitting**: terlalu sederhana\n",
    "\n",
    "**Solusi:**\n",
    "- Regularisasi\n",
    "- Tambah data\n",
    "- Feature engineering\n"
   ]
  },
  {
   "cell_type": "markdown",
   "id": "783f9ba6",
   "metadata": {},
   "source": [
    "## Evaluasi dan Validasi"
   ]
  },
  {
   "cell_type": "markdown",
   "id": "56151c43",
   "metadata": {},
   "source": [
    "- **Train/Test Split**: 80% pelatihan, 20% pengujian.\n",
    "- **Validation Set**: untuk tuning model/hyperparameter.\n",
    "- **Train-dev Set**: untuk deteksi mismatch data.\n",
    "\n",
    "**Cross-validation**: teknik untuk evaluasi model dengan validasi berulang.\n",
    "\n"
   ]
  },
  {
   "cell_type": "markdown",
   "id": "e4b61257",
   "metadata": {},
   "source": [
    "## No Free Lunch Theorem"
   ]
  },
  {
   "cell_type": "markdown",
   "id": "1c3773fd",
   "metadata": {},
   "source": [
    "Tidak ada satu model terbaik untuk semua kasus. Pemilihan model tergantung pada asumsi dan jenis data.\n"
   ]
  },
  {
   "cell_type": "markdown",
   "id": "611aa1dd",
   "metadata": {},
   "source": [
    "## Kesimpulan"
   ]
  },
  {
   "cell_type": "markdown",
   "id": "d37ddcc3",
   "metadata": {},
   "source": [
    "- ML memungkinkan komputer belajar dari data.\n",
    "- Banyak jenis dan aplikasi.\n",
    "- Kualitas data sangat penting.\n",
    "- Perlu evaluasi dan tuning untuk generalisasi yang baik.\n"
   ]
  },
  {
   "cell_type": "markdown",
   "id": "2fbb2570",
   "metadata": {},
   "source": [
    "## Penjelasan Teori Machine Learning"
   ]
  },
  {
   "cell_type": "markdown",
   "id": "5eb29470",
   "metadata": {},
   "source": [
    "### Apa Itu Machine Learning?"
   ]
  },
  {
   "cell_type": "markdown",
   "id": "d128f8ad",
   "metadata": {},
   "source": [
    "Machine Learning (ML) adalah bidang dalam kecerdasan buatan (AI) yang fokus pada pengembangan algoritma yang memungkinkan komputer belajar dari dan membuat prediksi atau keputusan berdasarkan data.\n",
    "\n",
    "#### Penjelasan Teoritis:\n",
    "ML tidak mengandalkan aturan eksplisit, melainkan menggunakan pola dalam data untuk memodelkan relasi. Intinya, ML mencoba mengestimasi fungsi \\( f: X \r",
    "ightarrow Y \\) dari data input-output, tanpa kita harus secara eksplisit menyatakan bentuk dari fungsi tersebut.\n",
    "\n",
    "Contoh: Mengklasifikasikan email sebagai spam/ham berdasarkan fitur seperti frekuensi kata, pengirim, dll.\n"
   ]
  },
  {
   "cell_type": "markdown",
   "id": "085f5703",
   "metadata": {},
   "source": [
    "### Supervised Learning"
   ]
  },
  {
   "cell_type": "markdown",
   "id": "9203103a",
   "metadata": {},
   "source": [
    "Supervised learning adalah jenis ML di mana setiap data pelatihan memiliki label target yang diketahui.\n",
    "\n",
    "- **Tujuan**: Mempelajari fungsi pemetaan dari input ke output.\n",
    "- **Tugas umum**: Klasifikasi dan regresi.\n",
    "\n",
    "Contoh:\n",
    "- Klasifikasi: Email → spam atau tidak.\n",
    "- Regresi: Prediksi harga rumah berdasarkan ukuran, lokasi, dll.\n"
   ]
  },
  {
   "cell_type": "markdown",
   "id": "f43c6f4c",
   "metadata": {},
   "source": [
    "### Unsupervised Learning"
   ]
  },
  {
   "cell_type": "markdown",
   "id": "03a26f16",
   "metadata": {},
   "source": [
    "Unsupervised learning digunakan saat data tidak memiliki label. Model mencoba menemukan struktur tersembunyi dalam data.\n",
    "\n",
    "- **Contoh algoritma**: K-Means, PCA, DBSCAN\n",
    "- **Aplikasi**: Clustering, pengurangan dimensi, deteksi anomali.\n",
    "\n",
    "Contoh: Mengelompokkan pelanggan e-commerce berdasarkan kebiasaan belanja.\n"
   ]
  },
  {
   "cell_type": "markdown",
   "id": "bc9874f1",
   "metadata": {},
   "source": [
    "### Semisupervised Learning"
   ]
  },
  {
   "cell_type": "markdown",
   "id": "4ca77c02",
   "metadata": {},
   "source": [
    "Gabungan antara supervised dan unsupervised. Digunakan ketika sebagian besar data tidak dilabeli dan hanya sebagian kecil yang dilabeli.\n",
    "\n",
    "- Berguna dalam dunia nyata karena pelabelan data mahal dan memakan waktu.\n"
   ]
  },
  {
   "cell_type": "markdown",
   "id": "6293c979",
   "metadata": {},
   "source": [
    "### Reinforcement Learning"
   ]
  },
  {
   "cell_type": "markdown",
   "id": "d8b74d37",
   "metadata": {},
   "source": [
    "Jenis pembelajaran di mana agen berinteraksi dengan lingkungan dan belajar dari umpan balik berupa reward.\n",
    "\n",
    "- **Tujuan**: Mempelajari kebijakan (policy) yang memaksimalkan reward jangka panjang.\n",
    "- **Contoh**: AlphaGo, robot navigasi, rekomendasi adaptif.\n"
   ]
  },
  {
   "cell_type": "markdown",
   "id": "d072f409",
   "metadata": {},
   "source": [
    "### Overfitting dan Underfitting"
   ]
  },
  {
   "cell_type": "markdown",
   "id": "8c2bb662",
   "metadata": {},
   "source": [
    "- **Overfitting**: Model terlalu kompleks → belajar noise data → generalisasi buruk.\n",
    "- **Underfitting**: Model terlalu sederhana → gagal menangkap pola.\n",
    "\n",
    "**Solusi Overfitting**:\n",
    "- Regularisasi (misalnya L1/L2)\n",
    "- Pengumpulan data tambahan\n",
    "- Pengurangan kompleksitas model\n",
    "\n",
    "**Solusi Underfitting**:\n",
    "- Model yang lebih kompleks\n",
    "- Menambah fitur yang informatif\n"
   ]
  },
  {
   "cell_type": "markdown",
   "id": "b3299b13",
   "metadata": {},
   "source": [
    "### Regularisasi"
   ]
  },
  {
   "cell_type": "markdown",
   "id": "bb607736",
   "metadata": {},
   "source": [
    "Regularisasi adalah teknik untuk mencegah overfitting dengan menambahkan penalti terhadap kompleksitas model.\n",
    "\n",
    "- **L1 (Lasso)**: Menyebabkan sparsity (beberapa koefisien jadi nol)\n",
    "- **L2 (Ridge)**: Menjaga agar parameter tetap kecil tapi tidak nol\n",
    "\n",
    "Formulasi Ridge Regression:\n",
    "\\[\n",
    "J(\\theta) = \\frac{1}{m} \\sum (h_\\theta(x^{(i)}) - y^{(i)})^2 + \\lambda \\sum \\theta_j^2\n",
    "\\]\n"
   ]
  },
  {
   "cell_type": "markdown",
   "id": "d7dcf4ab",
   "metadata": {},
   "source": [
    "### Validasi dan Evaluasi Model"
   ]
  },
  {
   "cell_type": "markdown",
   "id": "65b2f6e9",
   "metadata": {},
   "source": [
    "- **Training set**: Untuk melatih model\n",
    "- **Validation set**: Untuk tuning parameter dan memilih model\n",
    "- **Test set**: Untuk estimasi generalisasi ke data baru\n",
    "\n",
    "**Cross-validation**: Membagi data menjadi beberapa fold dan melatih model berkali-kali untuk meningkatkan estimasi performa.\n",
    "\n",
    "**Tujuan utama**: Memastikan model bekerja baik terhadap data yang belum pernah dilihat (real-world performance).\n"
   ]
  },
  {
   "cell_type": "markdown",
   "id": "b4364a25",
   "metadata": {},
   "source": [
    "### No Free Lunch Theorem"
   ]
  },
  {
   "cell_type": "markdown",
   "id": "ccb87af1",
   "metadata": {},
   "source": [
    "Teorema ini menyatakan bahwa tidak ada satu algoritma ML yang selalu lebih baik dari yang lain untuk semua jenis masalah.\n",
    "\n",
    "Artinya, pemilihan algoritma harus disesuaikan dengan karakteristik data dan domain spesifik.\n"
   ]
  }
 ],
 "metadata": {},
 "nbformat": 4,
 "nbformat_minor": 5
}