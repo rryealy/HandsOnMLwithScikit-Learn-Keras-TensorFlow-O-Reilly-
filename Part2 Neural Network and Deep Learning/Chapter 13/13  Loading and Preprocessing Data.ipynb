{
  "cells": [
    {
      "cell_type": "markdown",
      "metadata": {},
      "source": [
        "# Loading and Preprocessing Data with TensorFlow\n",
        "## Chapter 13 - Efficient Data Pipelines Guide"
      ]
    },
    {
      "cell_type": "markdown",
      "metadata": {},
      "source": [
        "## 1. Introduction to TensorFlow Data API\n",
        "\n",
        "The Data API provides tools to efficiently load, preprocess, and feed data to your models. Key benefits include:\n",
        "- Handling datasets too large to fit in memory\n",
        "- Optimized performance with prefetching and parallel processing\n",
        "- Seamless integration with tf.keras\n",
        "\n",
        "### Core Concepts:\n",
        "- `tf.data.Dataset`: Represents a sequence of data items\n",
        "- Transformations: Methods like `map()`, `batch()`, `shuffle()`\n",
        "- Iteration: Process datasets in batches during training"
      ]
    },
    {
      "cell_type": "markdown",
      "metadata": {},
      "source": [
        "## 2. Creating Datasets\n",
        "\n",
        "### 2.1 From In-Memory Data\n",
        "Create datasets from Python structures:"
      ]
    },
    {
      "cell_type": "code",
      "execution_count": null,
      "metadata": {},
      "outputs": [],
      "source": [
        "import tensorflow as tf\n",
        "import numpy as np\n",
        "\n",
        "# From numpy arrays\n",
        "data = np.array([1, 2, 3, 4, 5])\n",
        "dataset = tf.data.Dataset.from_tensor_slices(data)\n",
        "\n",
        "# From multiple arrays (features and labels)\n",
        "features = np.random.rand(100, 5)\n",
        "labels = np.random.randint(0, 2, size=(100, 1))\n",
        "dataset = tf.data.Dataset.from_tensor_slices((features, labels))\n",
        "\n",
        "# Inspect the dataset\n",
        "for element in dataset.take(3):\n",
        "    print(element)"
      ]
    },
    {
      "cell_type": "markdown",
      "metadata": {},
      "source": [
        "### 2.2 From Text Files\n",
        "Read data from text files line by line:"
      ]
    },
    {
      "cell_type": "code",
      "execution_count": null,
      "metadata": {},
      "outputs": [],
      "source": [
        "# Create sample text files\n",
        "import os\n",
        "os.makedirs(\"data\", exist_ok=True)\n",
        "for i in range(3):\n",
        "    with open(f\"data/file_{i}.txt\", \"w\") as f:\n",
        "        f.write(f\"Sample line 1 in file {i}\\n\")\n",
        "        f.write(f\"Sample line 2 in file {i}\\n\")\n",
        "\n",
        "# Create dataset from text files\n",
        "file_pattern = \"data/file_*.txt\"\n",
        "dataset = tf.data.Dataset.list_files(file_pattern)\n",
        "\n",
        "def read_file(file_path):\n",
        "    return tf.data.TextLineDataset(file_path)\n",
        "\n",
        "dataset = dataset.interleave(\n",
        "    read_file,\n",
        "    cycle_length=3,\n",
        "    num_parallel_calls=tf.data.AUTOTUNE\n",
        ")\n",
        "\n",
        "for line in dataset.take(4):\n",
        "    print(line.numpy())"
      ]
    },
    {
      "cell_type": "markdown",
      "metadata": {},
      "source": [
        "## 3. Data Preprocessing\n",
        "\n",
        "### 3.1 Using Dataset.map()\n",
        "Apply transformations to each element:"
      ]
    },
    {
      "cell_type": "code",
      "execution_count": null,
      "metadata": {},
      "outputs": [],
      "source": [
        "# Create a dataset of numbers\n",
        "dataset = tf.data.Dataset.range(10)\n",
        "\n",
        "# Define preprocessing functions\n",
        "def square(x):\n",
        "    return x ** 2\n",
        "\n",
        "def add_noise(x):\n",
        "    return x + tf.random.normal(shape=[], mean=0.0, stddev=0.1)\n",
        "\n",
        "# Apply transformations\n",
        "dataset = dataset.map(square).map(add_noise)\n",
        "\n",
        "for element in dataset.take(5):\n",
        "    print(element.numpy())"
      ]
    },
    {
      "cell_type": "markdown",
      "metadata": {},
      "source": [
        "### 3.2 Preprocessing Images\n",
        "Complete pipeline for image data:"
      ]
    },
    {
      "cell_type": "code",
      "execution_count": null,
      "metadata": {},
      "outputs": [],
      "source": [
        "def preprocess_image(image_path, label):\n",
        "    # Read and decode image\n",
        "    image = tf.io.read_file(image_path)\n",
        "    image = tf.image.decode_jpeg(image, channels=3)\n",
        "    \n",
        "    # Resize and normalize\n",
        "    image = tf.image.resize(image, [224, 224])\n",
        "    image = image / 255.0  # Normalize to [0,1]\n",
        "    \n",
        "    return image, label\n",
        "\n",
        "# Example usage with dummy data\n",
        "image_paths = [\"path/to/image1.jpg\", \"path/to/image2.jpg\"]  # Replace with actual paths\n",
        "labels = [0, 1]\n",
        "\n",
        "dataset = tf.data.Dataset.from_tensor_slices((image_paths, labels))\n",
        "dataset = dataset.map(preprocess_image, num_parallel_calls=tf.data.AUTOTUNE)"
      ]
    },
    {
      "cell_type": "markdown",
      "metadata": {},
      "source": [
        "## 4. Performance Optimization\n",
        "\n",
        "### 4.1 Essential Optimization Techniques\n",
        "\n",
        "| Technique          | Method                 | Benefit                          |\n",
        "|--------------------|------------------------|----------------------------------|\n",
        "| Prefetching        | `.prefetch(buffer_size)` | Overlaps data prep and training  |\n",
        "| Parallel Processing| `.map(..., num_parallel_calls)` | Uses multiple CPU cores       |\n",
        "| Caching            | `.cache()`             | Avoids reprocessing              |\n",
        "| Batching           | `.batch(batch_size)`   | Processes data in batches        |\n",
        "\n",
        "### 4.2 Complete Optimized Pipeline"
      ]
    },
    {
      "cell_type": "code",
      "execution_count": null,
      "metadata": {},
      "outputs": [],
      "source": [
        "# Example with all optimizations\n",
        "def create_optimized_pipeline(file_pattern, batch_size=32):\n",
        "    # List files\n",
        "    dataset = tf.data.Dataset.list_files(file_pattern)\n",
        "    \n",
        "    # Read files in parallel\n",
        "    dataset = dataset.interleave(\n",
        "        tf.data.TextLineDataset,\n",
        "        cycle_length=tf.data.AUTOTUNE,\n",
        "        num_parallel_calls=tf.data.AUTOTUNE\n",
        "    )\n",
        "    \n",
        "    # Shuffle and batch\n",
        "    dataset = dataset.shuffle(buffer_size=1000)\n",
        "    dataset = dataset.batch(batch_size)\n",
        "    \n",
        "    # Prefetch\n",
        "    dataset = dataset.prefetch(buffer_size=tf.data.AUTOTUNE)\n",
        "    \n",
        "    return dataset\n",
        "\n",
        "# Usage\n",
        "optimized_dataset = create_optimized_pipeline(\"data/*.txt\")"
      ]
    },
    {
      "cell_type": "markdown",
      "metadata": {},
      "source": [
        "## 5. TFRecord Format\n",
        "\n",
        "### 5.1 Creating TFRecord Files\n",
        "Efficient binary format for large datasets:"
      ]
    },
    {
      "cell_type": "code",
      "execution_count": null,
      "metadata": {},
      "outputs": [],
      "source": [
        "def create_tfrecord_example(feature, label):\n",
        "    feature_dict = {\n",
        "        'feature': tf.train.Feature(float_list=tf.train.FloatList(value=feature)),\n",
        "        'label': tf.train.Feature(int64_list=tf.train.Int64List(value=[label]))\n",
        "    }\n",
        "    example = tf.train.Example(features=tf.train.Features(feature=feature_dict))\n",
        "    return example.SerializeToString()\n",
        "\n",
        "# Write TFRecord file\n",
        "with tf.io.TFRecordWriter(\"data/sample.tfrecord\") as writer:\n",
        "    for i in range(10):\n",
        "        feature = np.random.rand(5).astype(np.float32)\n",
        "        label = i % 2\n",
        "        example = create_tfrecord_example(feature, label)\n",
        "        writer.write(example)"
      ]
    },
    {
      "cell_type": "markdown",
      "metadata": {},
      "source": [
        "### 5.2 Reading TFRecord Files\n",
        "Parse TFRecord data back into usable format:"
      ]
    },
    {
      "cell_type": "code",
      "execution_count": null,
      "metadata": {},
      "outputs": [],
      "source": [
        "feature_description = {\n",
        "    'feature': tf.io.FixedLenFeature([5], tf.float32),\n",
        "    'label': tf.io.FixedLenFeature([], tf.int64),\n",
        "}\n",
        "\n",
        "def parse_tfrecord(example_proto):\n",
        "    return tf.io.parse_single_example(example_proto, feature_description)\n",
        "\n",
        "dataset = tf.data.TFRecordDataset(\"data/sample.tfrecord\")\n",
        "dataset = dataset.map(parse_tfrecord)\n",
        "\n",
        "for parsed_record in dataset.take(3):\n",
        "    print(parsed_record)"
      ]
    },
    {
      "cell_type": "markdown",
      "metadata": {},
      "source": [
        "## 6. Keras Preprocessing Layers\n",
        "\n",
        "### 6.1 Built-in Preprocessing\n",
        "New Keras layers for efficient preprocessing:"
      ]
    },
    {
      "cell_type": "code",
      "execution_count": null,
      "metadata": {},
      "outputs": [],
      "source": [
        "from tensorflow.keras.layers import Normalization, StringLookup\n",
        "import numpy as np\n",
        "\n",
        "# Numeric feature normalization\n",
        "data = np.random.rand(100, 1) * 100\n",
        "norm_layer = Normalization()\n",
        "norm_layer.adapt(data)\n",
        "normalized_data = norm_layer(data)\n",
        "print(\"Normalized mean:\", np.mean(normalized_data))\n",
        "\n",
        "# Categorical feature encoding\n",
        "categories = [\"cat\", \"dog\", \"bird\"]\n",
        "lookup_layer = StringLookup(vocabulary=categories)\n",
        "encoded = lookup_layer([\"dog\", \"cat\", \"bird\", \"dog\"])\n",
        "print(\"Encoded categories:\", encoded.numpy())"
      ]
    },
    {
      "cell_type": "markdown",
      "metadata": {},
      "source": [
        "## 7. Exercises\n",
        "\n",
        "1. Create a pipeline that reads CSV files, preprocesses numeric and categorical columns, and feeds to a model\n",
        "2. Benchmark the performance difference between prefetching vs no prefetching\n",
        "3. Implement a custom preprocessing layer for text data\n",
        "4. Convert an image dataset to TFRecord format and create a loading pipeline"
      ]
    },
    {
      "cell_type": "markdown",
      "metadata": {},
      "source": [
        "## 8. Key Takeaways\n",
        "\n",
        "- The Data API provides flexible tools for efficient data loading\n",
        "- Proper preprocessing is crucial for model performance\n",
        "- TFRecord format is ideal for large datasets\n",
        "- Keras preprocessing layers integrate seamlessly with models\n",
        "- Optimization techniques can significantly improve training speed"
      ]
    }
  ],
  "metadata": {
    "kernelspec": {
      "display_name": "Python 3",
      "language": "python",
      "name": "python3"
    },
    "language_info": {
      "codemirror_mode": {
        "name": "ipython",
        "version": 3
      },
      "file_extension": ".py",
      "mimetype": "text/x-python",
      "name": "python",
      "nbconvert_exporter": "python",
      "pygments_lexer": "ipython3",
      "version": "3.8.5"
    }
  },
  "nbformat": 4,
  "nbformat_minor": 4
}
