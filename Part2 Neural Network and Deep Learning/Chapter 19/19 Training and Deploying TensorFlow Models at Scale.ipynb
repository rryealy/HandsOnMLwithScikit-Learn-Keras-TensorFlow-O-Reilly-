{
 "cells": [
  {
   "cell_type": "markdown",
   "metadata": {},
   "source": [
    "# Chapter 19: Training and Deploying TensorFlow Models at Scale\n",
    "*Hands-On Machine Learning with Scikit-Learn, Keras & TensorFlow*"
   ]
  },
  {
   "cell_type": "markdown",
   "metadata": {},
   "source": [
    "## 1. Exporting SavedModel"
   ]
  },
  {
   "cell_type": "code",
   "metadata": {},
   "source": [
    "import tensorflow as tf\n",
    "from tensorflow import keras\n",
    "import os\n",
    "\n",
    "# Model sederhana untuk contoh\n",
    "model = keras.models.Sequential([\n",
    "    keras.layers.Flatten(input_shape=[28, 28]),\n",
    "    keras.layers.Dense(128, activation='relu'),\n",
    "    keras.layers.Dense(10, activation='softmax')\n",
    "])\n",
    "model.compile(loss='sparse_categorical_crossentropy', optimizer='adam', metrics=['accuracy'])\n",
    "# model.fit(x_train, y_train, epochs=5)  # Load your training data\n",
    "\n",
    "# Save model\n",
    "model_name = \"my_mnist_model\"\n",
    "version = \"0001\"\n",
    "model_path = os.path.join(model_name, version)\n",
    "tf.saved_model.save(model, model_path)"
   ]
  },
  {
   "cell_type": "markdown",
   "metadata": {},
   "source": [
    "## 2. Serving the Model via REST API using TensorFlow Serving"
   ]
  },
  {
   "cell_type": "code",
   "metadata": {},
   "source": [
    "# Jalankan ini di terminal, bukan di notebook:\n",
    "# docker pull tensorflow/serving\n",
    "# docker run -it --rm -p 8501:8501 \\\n",
    "#    -v \"$PWD/my_mnist_model:/models/my_mnist_model\" \\\n",
    "#    -e MODEL_NAME=my_mnist_model tensorflow/serving"
   ]
  },
  {
   "cell_type": "markdown",
   "metadata": {},
   "source": [
    "### Mengirim permintaan ke REST API"
   ]
  },
  {
   "cell_type": "code",
   "metadata": {},
   "source": [
    "import numpy as np\n",
    "import json\n",
    "import requests\n",
    "\n",
    "# X_new = load_your_test_data()  # Shape: (n_samples, 28, 28)\n",
    "# input_data_json = json.dumps({\"signature_name\": \"serving_default\", \"instances\": X_new.tolist()})\n",
    "# response = requests.post(\"http://localhost:8501/v1/models/my_mnist_model:predict\", data=input_data_json)\n",
    "# y_proba = np.array(response.json()[\"predictions\"])"
   ]
  },
  {
   "cell_type": "markdown",
   "metadata": {},
   "source": [
    "## 3. Convert to TensorFlow Lite for Mobile Deployment"
   ]
  },
  {
   "cell_type": "code",
   "metadata": {},
   "source": [
    "# Convert to TFLite format\n",
    "converter = tf.lite.TFLiteConverter.from_saved_model(model_path)\n",
    "converter.optimizations = [tf.lite.Optimize.OPTIMIZE_FOR_SIZE]  # Optional: quantization\n",
    "tflite_model = converter.convert()\n",
    "\n",
    "with open(\"converted_model.tflite\", \"wb\") as f:\n",
    "    f.write(tflite_model)"
   ]
  },
  {
   "cell_type": "markdown",
   "metadata": {},
   "source": [
    "## 4. Model untuk Web menggunakan TensorFlow.js (opsional)\n",
    "Gunakan perintah terminal:\n",
    "```\n",
    "tensorflowjs_converter --input_format=tf_saved_model my_mnist_model/0001 web_model/\n",
    "```"
   ]
  },
  {
   "cell_type": "markdown",
   "metadata": {},
   "source": [
    "## 5. Cek GPU dan Set Memori GPU"
   ]
  },
  {
   "cell_type": "code",
   "metadata": {},
   "source": [
    "print(\"GPU Available:\", tf.config.list_physical_devices('GPU'))\n",
    "\n",
    "# Atur limit GPU memory (misalnya 2048 MB)\n",
    "for gpu in tf.config.list_physical_devices('GPU'):\n",
    "    tf.config.experimental.set_virtual_device_configuration(\n",
    "        gpu,\n",
    "        [tf.config.experimental.VirtualDeviceConfiguration(memory_limit=2048)])"
   ]
  },
  {
   "cell_type": "markdown",
   "metadata": {},
   "source": [
    "## 6. Distributed Training Strategy"
   ]
  },
  {
   "cell_type": "code",
   "metadata": {},
   "source": [
    "strategy = tf.distribute.MirroredStrategy()\n",
    "with strategy.scope():\n",
    "    model = keras.models.Sequential([\n",
    "        keras.layers.Flatten(input_shape=[28, 28]),\n",
    "        keras.layers.Dense(128, activation='relu'),\n",
    "        keras.layers.Dense(10, activation='softmax')\n",
    "    ])\n",
    "    model.compile(loss='sparse_categorical_crossentropy', optimizer='adam', metrics=['accuracy'])\n",
    "    # model.fit(x_train, y_train, epochs=5)"
   ]
  }
 ],
 "metadata": {
  "kernelspec": {
   "display_name": "Python 3",
   "language": "python",
   "name": "python3"
  },
  "language_info": {
   "name": "python",
   "version": "3.10"
  }
 },
 "nbformat": 4,
 "nbformat_minor": 5
}
